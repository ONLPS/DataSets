{
 "cells": [
  {
   "cell_type": "code",
   "execution_count": 1,
   "metadata": {},
   "outputs": [],
   "source": [
    "import os\n",
    "import pandas as pd\n",
    "import numpy as np"
   ]
  },
  {
   "cell_type": "code",
   "execution_count": 2,
   "metadata": {},
   "outputs": [],
   "source": [
    "root = \"../data/indian_political_news_2018_dataset/\"\n",
    "data_paths = [root+i for i in os.listdir(root)]\n",
    "lens = [pd.read_csv(path).shape[0] for path in data_paths]"
   ]
  },
  {
   "cell_type": "code",
   "execution_count": 3,
   "metadata": {},
   "outputs": [
    {
     "data": {
      "text/plain": [
       "(['../data/indian_political_news_2018_dataset/firstpost_2018.csv',\n",
       "  '../data/indian_political_news_2018_dataset/opindia_2018.csv',\n",
       "  '../data/indian_political_news_2018_dataset/scroll_2018.csv',\n",
       "  '../data/indian_political_news_2018_dataset/catchnews_2018.csv',\n",
       "  '../data/indian_political_news_2018_dataset/dailyo_2018.csv'],\n",
       " [5622, 743, 1494, 646, 522])"
      ]
     },
     "execution_count": 3,
     "metadata": {},
     "output_type": "execute_result"
    }
   ],
   "source": [
    "data_paths, lens"
   ]
  },
  {
   "cell_type": "code",
   "execution_count": 4,
   "metadata": {},
   "outputs": [],
   "source": [
    "firstpost = [\"firstpost\"]*5622\n",
    "opindia = [\"opindia\"]*743\n",
    "scroll = [\"scroll\"]*1494\n",
    "catchnews = [\"catchnews\"]*646\n",
    "dailyo = [\"dailyo\"]*522\n",
    "\n",
    "websites = firstpost+opindia+scroll+catchnews+dailyo"
   ]
  },
  {
   "cell_type": "code",
   "execution_count": 5,
   "metadata": {},
   "outputs": [],
   "source": [
    "df = pd.concat([pd.read_csv(path) for path in data_paths]).drop(\"Unnamed: 0\", axis=1)"
   ]
  },
  {
   "cell_type": "code",
   "execution_count": 6,
   "metadata": {},
   "outputs": [],
   "source": [
    "df = df.assign(website = websites).dropna(subset=['content'])"
   ]
  },
  {
   "cell_type": "code",
   "execution_count": 12,
   "metadata": {},
   "outputs": [],
   "source": [
    "#df.to_csv(\"../data/indian_politics_news_2018.csv\")"
   ]
  },
  {
   "cell_type": "code",
   "execution_count": null,
   "metadata": {},
   "outputs": [],
   "source": []
  },
  {
   "cell_type": "code",
   "execution_count": null,
   "metadata": {},
   "outputs": [],
   "source": []
  }
 ],
 "metadata": {
  "kernelspec": {
   "display_name": "Python 3",
   "language": "python",
   "name": "python3"
  },
  "language_info": {
   "codemirror_mode": {
    "name": "ipython",
    "version": 3
   },
   "file_extension": ".py",
   "mimetype": "text/x-python",
   "name": "python",
   "nbconvert_exporter": "python",
   "pygments_lexer": "ipython3",
   "version": "3.6.7"
  }
 },
 "nbformat": 4,
 "nbformat_minor": 2
}
